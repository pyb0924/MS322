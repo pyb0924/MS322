{
 "cells": [
  {
   "cell_type": "code",
   "execution_count": 2,
   "metadata": {
    "collapsed": true
   },
   "outputs": [],
   "source": [
    "import pandas as pd\n",
    "import json"
   ]
  },
  {
   "cell_type": "code",
   "execution_count": 16,
   "outputs": [
    {
     "data": {
      "text/plain": "                        batch-size  fold  jaccard_loss  n_epochs  valid_loss  \\\nmodel     problem-type                                                         \nAlbuNet   binary              16.0   1.5      0.809519      20.0    0.319731   \n          instruments         16.0   1.5           NaN      20.0   36.009508   \n          parts               16.0   1.5           NaN      20.0    1.343037   \nLinkNet34 binary              16.0   1.5      0.832651      20.0    0.284802   \n          instruments         16.0   1.5           NaN      20.0   39.503785   \n\n                          dice_1    dice_2    dice_3       iou     iou_1  \\\nmodel     problem-type                                                     \nAlbuNet   binary             NaN       NaN       NaN       NaN       NaN   \n          instruments   0.446404  0.362186  0.399369  0.163524  0.299806   \n          parts         0.964142  0.844162  0.819820  0.789274  0.930924   \nLinkNet34 binary             NaN       NaN       NaN       NaN       NaN   \n          instruments   0.566912  0.439494  0.455839  0.193178  0.412962   \n\n                           iou_2     iou_3    dice_4    dice_5    dice_6  \\\nmodel     problem-type                                                     \nAlbuNet   binary             NaN       NaN       NaN       NaN       NaN   \n          instruments   0.237053  0.300786  0.158932  0.045157  0.040674   \n          parts         0.732651  0.704248       NaN       NaN       NaN   \nLinkNet34 binary             NaN       NaN       NaN       NaN       NaN   \n          instruments   0.306543  0.346610  0.217636  0.068064  0.046700   \n\n                          dice_7     iou_4     iou_5     iou_6     iou_7  \nmodel     problem-type                                                    \nAlbuNet   binary             NaN       NaN       NaN       NaN       NaN  \n          instruments   0.235606  0.101231  0.023624  0.022138  0.160027  \n          parts              NaN       NaN       NaN       NaN       NaN  \nLinkNet34 binary             NaN       NaN       NaN       NaN       NaN  \n          instruments   0.139524  0.139281  0.037672  0.025730  0.083450  ",
      "text/html": "<div>\n<style scoped>\n    .dataframe tbody tr th:only-of-type {\n        vertical-align: middle;\n    }\n\n    .dataframe tbody tr th {\n        vertical-align: top;\n    }\n\n    .dataframe thead th {\n        text-align: right;\n    }\n</style>\n<table border=\"1\" class=\"dataframe\">\n  <thead>\n    <tr style=\"text-align: right;\">\n      <th></th>\n      <th></th>\n      <th>batch-size</th>\n      <th>fold</th>\n      <th>jaccard_loss</th>\n      <th>n_epochs</th>\n      <th>valid_loss</th>\n      <th>dice_1</th>\n      <th>dice_2</th>\n      <th>dice_3</th>\n      <th>iou</th>\n      <th>iou_1</th>\n      <th>iou_2</th>\n      <th>iou_3</th>\n      <th>dice_4</th>\n      <th>dice_5</th>\n      <th>dice_6</th>\n      <th>dice_7</th>\n      <th>iou_4</th>\n      <th>iou_5</th>\n      <th>iou_6</th>\n      <th>iou_7</th>\n    </tr>\n    <tr>\n      <th>model</th>\n      <th>problem-type</th>\n      <th></th>\n      <th></th>\n      <th></th>\n      <th></th>\n      <th></th>\n      <th></th>\n      <th></th>\n      <th></th>\n      <th></th>\n      <th></th>\n      <th></th>\n      <th></th>\n      <th></th>\n      <th></th>\n      <th></th>\n      <th></th>\n      <th></th>\n      <th></th>\n      <th></th>\n      <th></th>\n    </tr>\n  </thead>\n  <tbody>\n    <tr>\n      <th rowspan=\"3\" valign=\"top\">AlbuNet</th>\n      <th>binary</th>\n      <td>16.0</td>\n      <td>1.5</td>\n      <td>0.809519</td>\n      <td>20.0</td>\n      <td>0.319731</td>\n      <td>NaN</td>\n      <td>NaN</td>\n      <td>NaN</td>\n      <td>NaN</td>\n      <td>NaN</td>\n      <td>NaN</td>\n      <td>NaN</td>\n      <td>NaN</td>\n      <td>NaN</td>\n      <td>NaN</td>\n      <td>NaN</td>\n      <td>NaN</td>\n      <td>NaN</td>\n      <td>NaN</td>\n      <td>NaN</td>\n    </tr>\n    <tr>\n      <th>instruments</th>\n      <td>16.0</td>\n      <td>1.5</td>\n      <td>NaN</td>\n      <td>20.0</td>\n      <td>36.009508</td>\n      <td>0.446404</td>\n      <td>0.362186</td>\n      <td>0.399369</td>\n      <td>0.163524</td>\n      <td>0.299806</td>\n      <td>0.237053</td>\n      <td>0.300786</td>\n      <td>0.158932</td>\n      <td>0.045157</td>\n      <td>0.040674</td>\n      <td>0.235606</td>\n      <td>0.101231</td>\n      <td>0.023624</td>\n      <td>0.022138</td>\n      <td>0.160027</td>\n    </tr>\n    <tr>\n      <th>parts</th>\n      <td>16.0</td>\n      <td>1.5</td>\n      <td>NaN</td>\n      <td>20.0</td>\n      <td>1.343037</td>\n      <td>0.964142</td>\n      <td>0.844162</td>\n      <td>0.819820</td>\n      <td>0.789274</td>\n      <td>0.930924</td>\n      <td>0.732651</td>\n      <td>0.704248</td>\n      <td>NaN</td>\n      <td>NaN</td>\n      <td>NaN</td>\n      <td>NaN</td>\n      <td>NaN</td>\n      <td>NaN</td>\n      <td>NaN</td>\n      <td>NaN</td>\n    </tr>\n    <tr>\n      <th rowspan=\"2\" valign=\"top\">LinkNet34</th>\n      <th>binary</th>\n      <td>16.0</td>\n      <td>1.5</td>\n      <td>0.832651</td>\n      <td>20.0</td>\n      <td>0.284802</td>\n      <td>NaN</td>\n      <td>NaN</td>\n      <td>NaN</td>\n      <td>NaN</td>\n      <td>NaN</td>\n      <td>NaN</td>\n      <td>NaN</td>\n      <td>NaN</td>\n      <td>NaN</td>\n      <td>NaN</td>\n      <td>NaN</td>\n      <td>NaN</td>\n      <td>NaN</td>\n      <td>NaN</td>\n      <td>NaN</td>\n    </tr>\n    <tr>\n      <th>instruments</th>\n      <td>16.0</td>\n      <td>1.5</td>\n      <td>NaN</td>\n      <td>20.0</td>\n      <td>39.503785</td>\n      <td>0.566912</td>\n      <td>0.439494</td>\n      <td>0.455839</td>\n      <td>0.193178</td>\n      <td>0.412962</td>\n      <td>0.306543</td>\n      <td>0.346610</td>\n      <td>0.217636</td>\n      <td>0.068064</td>\n      <td>0.046700</td>\n      <td>0.139524</td>\n      <td>0.139281</td>\n      <td>0.037672</td>\n      <td>0.025730</td>\n      <td>0.083450</td>\n    </tr>\n  </tbody>\n</table>\n</div>"
     },
     "execution_count": 16,
     "metadata": {},
     "output_type": "execute_result"
    }
   ],
   "source": [
    "with open('result.json','r')as f:\n",
    "    data=json.load(f)\n",
    "df=pd.DataFrame(data)\n",
    "\n",
    "df=df.groupby([df['model'],df['problem-type']]).mean()\n",
    "\n",
    "df.head(5)"
   ],
   "metadata": {
    "collapsed": false,
    "pycharm": {
     "name": "#%%\n"
    }
   }
  },
  {
   "cell_type": "code",
   "execution_count": 17,
   "outputs": [
    {
     "data": {
      "text/plain": "                        jaccard_loss  valid_loss       iou      dice\nmodel     problem-type                                              \nAlbuNet   binary            0.809519    0.319731       NaN       NaN\n          instruments            NaN   36.009508  0.163524  0.241190\n          parts                  NaN    1.343037  0.789274  0.876041\nLinkNet34 binary            0.832651    0.284802       NaN       NaN\n          instruments            NaN   39.503785  0.193178  0.276310",
      "text/html": "<div>\n<style scoped>\n    .dataframe tbody tr th:only-of-type {\n        vertical-align: middle;\n    }\n\n    .dataframe tbody tr th {\n        vertical-align: top;\n    }\n\n    .dataframe thead th {\n        text-align: right;\n    }\n</style>\n<table border=\"1\" class=\"dataframe\">\n  <thead>\n    <tr style=\"text-align: right;\">\n      <th></th>\n      <th></th>\n      <th>jaccard_loss</th>\n      <th>valid_loss</th>\n      <th>iou</th>\n      <th>dice</th>\n    </tr>\n    <tr>\n      <th>model</th>\n      <th>problem-type</th>\n      <th></th>\n      <th></th>\n      <th></th>\n      <th></th>\n    </tr>\n  </thead>\n  <tbody>\n    <tr>\n      <th rowspan=\"3\" valign=\"top\">AlbuNet</th>\n      <th>binary</th>\n      <td>0.809519</td>\n      <td>0.319731</td>\n      <td>NaN</td>\n      <td>NaN</td>\n    </tr>\n    <tr>\n      <th>instruments</th>\n      <td>NaN</td>\n      <td>36.009508</td>\n      <td>0.163524</td>\n      <td>0.241190</td>\n    </tr>\n    <tr>\n      <th>parts</th>\n      <td>NaN</td>\n      <td>1.343037</td>\n      <td>0.789274</td>\n      <td>0.876041</td>\n    </tr>\n    <tr>\n      <th rowspan=\"2\" valign=\"top\">LinkNet34</th>\n      <th>binary</th>\n      <td>0.832651</td>\n      <td>0.284802</td>\n      <td>NaN</td>\n      <td>NaN</td>\n    </tr>\n    <tr>\n      <th>instruments</th>\n      <td>NaN</td>\n      <td>39.503785</td>\n      <td>0.193178</td>\n      <td>0.276310</td>\n    </tr>\n  </tbody>\n</table>\n</div>"
     },
     "execution_count": 17,
     "metadata": {},
     "output_type": "execute_result"
    }
   ],
   "source": [
    "dice_list=['dice_'+str(i) for i in range(1,8)]\n",
    "df['dice']=df[dice_list].mean(axis=1)\n",
    "df.head(5)\n",
    "\n",
    "col=['jaccard_loss','valid_loss','iou','dice']\n",
    "df=df[col]\n",
    "df.head(5)\n"
   ],
   "metadata": {
    "collapsed": false,
    "pycharm": {
     "name": "#%%\n"
    }
   }
  },
  {
   "cell_type": "code",
   "execution_count": null,
   "outputs": [],
   "source": [],
   "metadata": {
    "collapsed": false,
    "pycharm": {
     "name": "#%%\n"
    }
   }
  }
 ],
 "metadata": {
  "kernelspec": {
   "name": "image_processing",
   "language": "python",
   "display_name": "'image_processing'"
  },
  "language_info": {
   "codemirror_mode": {
    "name": "ipython",
    "version": 2
   },
   "file_extension": ".py",
   "mimetype": "text/x-python",
   "name": "python",
   "nbconvert_exporter": "python",
   "pygments_lexer": "ipython2",
   "version": "2.7.6"
  }
 },
 "nbformat": 4,
 "nbformat_minor": 0
}