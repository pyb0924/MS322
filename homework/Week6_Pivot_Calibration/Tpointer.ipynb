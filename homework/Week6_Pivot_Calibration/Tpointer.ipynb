{
 "cells": [
  {
   "cell_type": "markdown",
   "metadata": {},
   "source": [
    "# Instrument Calibration\n",
    "\n",
    "**518021910971 裴奕博**\n"
   ]
  },
  {
   "cell_type": "code",
   "execution_count": 184,
   "metadata": {},
   "outputs": [],
   "source": [
    "import numpy as np\n",
    "import pandas as pd\n",
    "import re\n",
    "from scipy.linalg import lstsq"
   ]
  },
  {
   "cell_type": "markdown",
   "metadata": {},
   "source": [
    "### Pre: clear data and calculate R and P "
   ]
  },
  {
   "cell_type": "code",
   "execution_count": 210,
   "metadata": {},
   "outputs": [
    {
     "data": {
      "text/html": [
       "<div>\n",
       "<style scoped>\n",
       "    .dataframe tbody tr th:only-of-type {\n",
       "        vertical-align: middle;\n",
       "    }\n",
       "\n",
       "    .dataframe tbody tr th {\n",
       "        vertical-align: top;\n",
       "    }\n",
       "\n",
       "    .dataframe thead th {\n",
       "        text-align: right;\n",
       "    }\n",
       "</style>\n",
       "<table border=\"1\" class=\"dataframe\">\n",
       "  <thead>\n",
       "    <tr style=\"text-align: right;\">\n",
       "      <th></th>\n",
       "      <th>Ri</th>\n",
       "      <th>Pi</th>\n",
       "    </tr>\n",
       "  </thead>\n",
       "  <tbody>\n",
       "    <tr>\n",
       "      <th>0</th>\n",
       "      <td>[[-0.940318, 0.00452241, 0.339885, 24.7], [-0....</td>\n",
       "      <td>None</td>\n",
       "    </tr>\n",
       "    <tr>\n",
       "      <th>1</th>\n",
       "      <td>[[-0.94146, 0.0032108, 0.336806, 24.8], [-0.09...</td>\n",
       "      <td>None</td>\n",
       "    </tr>\n",
       "    <tr>\n",
       "      <th>2</th>\n",
       "      <td>[[-0.941584, 0.00107668, 0.336133, 24.86], [-0...</td>\n",
       "      <td>None</td>\n",
       "    </tr>\n",
       "    <tr>\n",
       "      <th>3</th>\n",
       "      <td>[[-0.941101, 0.00197468, 0.337541, 24.81], [-0...</td>\n",
       "      <td>None</td>\n",
       "    </tr>\n",
       "    <tr>\n",
       "      <th>4</th>\n",
       "      <td>[[-0.940003, 0.0029642, 0.340505, 24.68], [-0....</td>\n",
       "      <td>None</td>\n",
       "    </tr>\n",
       "  </tbody>\n",
       "</table>\n",
       "</div>"
      ],
      "text/plain": [
       "                                                  Ri    Pi\n",
       "0  [[-0.940318, 0.00452241, 0.339885, 24.7], [-0....  None\n",
       "1  [[-0.94146, 0.0032108, 0.336806, 24.8], [-0.09...  None\n",
       "2  [[-0.941584, 0.00107668, 0.336133, 24.86], [-0...  None\n",
       "3  [[-0.941101, 0.00197468, 0.337541, 24.81], [-0...  None\n",
       "4  [[-0.940003, 0.0029642, 0.340505, 24.68], [-0....  None"
      ]
     },
     "execution_count": 210,
     "metadata": {},
     "output_type": "execute_result"
    }
   ],
   "source": [
    "# change data format\n",
    "df=pd.read_table('Tpointer2Cam.txt',header=None)\n",
    "num=df.shape[0] # num of sample\n",
    "df.columns=['Ri']\n",
    "df['Pi']=None\n",
    "df['Ri']=df['Ri'].apply(lambda x:x.replace('[',''))\n",
    "df['Ri']=df['Ri'].apply(lambda x:x.replace(']',''))\n",
    "df['Ri']=df['Ri'].apply(lambda x: x.split(','))\n",
    "df['Ri']=df['Ri'].apply(lambda x:list(map(float,x)))\n",
    "df['Ri']=df['Ri'].apply(lambda x:np.array(x).reshape(3,4))\n",
    "df.head(5)"
   ]
  },
  {
   "cell_type": "code",
   "execution_count": 209,
   "metadata": {},
   "outputs": [
    {
     "data": {
      "text/html": [
       "<div>\n",
       "<style scoped>\n",
       "    .dataframe tbody tr th:only-of-type {\n",
       "        vertical-align: middle;\n",
       "    }\n",
       "\n",
       "    .dataframe tbody tr th {\n",
       "        vertical-align: top;\n",
       "    }\n",
       "\n",
       "    .dataframe thead th {\n",
       "        text-align: right;\n",
       "    }\n",
       "</style>\n",
       "<table border=\"1\" class=\"dataframe\">\n",
       "  <thead>\n",
       "    <tr style=\"text-align: right;\">\n",
       "      <th></th>\n",
       "      <th>Ri</th>\n",
       "      <th>Pi</th>\n",
       "    </tr>\n",
       "  </thead>\n",
       "  <tbody>\n",
       "    <tr>\n",
       "      <th>0</th>\n",
       "      <td>[[-0.940318, 0.00452241, 0.339885, 1.0, 0.0, 0...</td>\n",
       "      <td>[[-1.0, -0.0, -0.0], [-0.0, -1.0, -0.0], [-0.0...</td>\n",
       "    </tr>\n",
       "    <tr>\n",
       "      <th>1</th>\n",
       "      <td>[[-0.94146, 0.0032108, 0.336806, 1.0, 0.0, 0.0...</td>\n",
       "      <td>[[-1.0, -0.0, -0.0], [-0.0, -1.0, -0.0], [-0.0...</td>\n",
       "    </tr>\n",
       "    <tr>\n",
       "      <th>2</th>\n",
       "      <td>[[-0.941584, 0.00107668, 0.336133, 1.0, 0.0, 0...</td>\n",
       "      <td>[[-1.0, -0.0, -0.0], [-0.0, -1.0, -0.0], [-0.0...</td>\n",
       "    </tr>\n",
       "    <tr>\n",
       "      <th>3</th>\n",
       "      <td>[[-0.941101, 0.00197468, 0.337541, 1.0, 0.0, 0...</td>\n",
       "      <td>[[-1.0, -0.0, -0.0], [-0.0, -1.0, -0.0], [-0.0...</td>\n",
       "    </tr>\n",
       "    <tr>\n",
       "      <th>4</th>\n",
       "      <td>[[-0.940003, 0.0029642, 0.340505, 1.0, 0.0, 0....</td>\n",
       "      <td>[[-1.0, -0.0, -0.0], [-0.0, -1.0, -0.0], [-0.0...</td>\n",
       "    </tr>\n",
       "  </tbody>\n",
       "</table>\n",
       "</div>"
      ],
      "text/plain": [
       "                                                  Ri  \\\n",
       "0  [[-0.940318, 0.00452241, 0.339885, 1.0, 0.0, 0...   \n",
       "1  [[-0.94146, 0.0032108, 0.336806, 1.0, 0.0, 0.0...   \n",
       "2  [[-0.941584, 0.00107668, 0.336133, 1.0, 0.0, 0...   \n",
       "3  [[-0.941101, 0.00197468, 0.337541, 1.0, 0.0, 0...   \n",
       "4  [[-0.940003, 0.0029642, 0.340505, 1.0, 0.0, 0....   \n",
       "\n",
       "                                                  Pi  \n",
       "0  [[-1.0, -0.0, -0.0], [-0.0, -1.0, -0.0], [-0.0...  \n",
       "1  [[-1.0, -0.0, -0.0], [-0.0, -1.0, -0.0], [-0.0...  \n",
       "2  [[-1.0, -0.0, -0.0], [-0.0, -1.0, -0.0], [-0.0...  \n",
       "3  [[-1.0, -0.0, -0.0], [-0.0, -1.0, -0.0], [-0.0...  \n",
       "4  [[-1.0, -0.0, -0.0], [-0.0, -1.0, -0.0], [-0.0...  "
      ]
     },
     "execution_count": 209,
     "metadata": {},
     "output_type": "execute_result"
    }
   ],
   "source": [
    "# split Ri and Pi\n",
    "df['Ri']=df['Ri'].apply(lambda x:np.hsplit(x,np.array([3])))\n",
    "df.loc[:,'Pi']=df.loc[:,'Ri'].apply(lambda x:-x[1])\n",
    "df.loc[:,'Ri']=df.loc[:,'Ri'].apply(lambda x:x[0])\n",
    "df['Ri']=df['Ri'].apply(lambda x:np.concatenate((x,np.identity(3)),axis=1))\n",
    "df.head(5)"
   ]
  },
  {
   "cell_type": "code",
   "execution_count": 206,
   "metadata": {},
   "outputs": [
    {
     "name": "stdout",
     "output_type": "stream",
     "text": [
      "(777, 6)\n",
      "(777, 1)\n"
     ]
    }
   ],
   "source": [
    "# conatenate matrix\n",
    "Ri_matrix=df['Ri'][0]\n",
    "Pi_matrix=df['Pi'][0]\n",
    "for i in np.arange(1,num):\n",
    "    Ri_matrix=np.concatenate((Ri_matrix,df['Ri'][i]),axis=0)\n",
    "    Pi_matrix=np.concatenate((Pi_matrix,df['Pi'][i]),axis=0)\n",
    "\n",
    "print(Ri_matrix.shape)\n",
    "print(Pi_matrix.shape)"
   ]
  },
  {
   "cell_type": "markdown",
   "metadata": {},
   "source": [
    "### 1. Compute the coordinate of the tool tip in the pointer’s local coordinate system\n",
    "$$\n",
    "\\left[\\begin{array}{cc}\n",
    "R_{1} & -\\mathrm{I} \\\\\n",
    "R_{2} & -\\mathrm{I} \\\\\n",
    "\\vdots & \\vdots \\\\\n",
    "R_{n} & -\\mathrm{I}\n",
    "\\end{array}\\right]\\left[\\begin{array}{l}\n",
    "p_{t} \\\\\n",
    "p_{p}\n",
    "\\end{array}\\right]=\\left[\\begin{array}{c}\n",
    "-p_{1} \\\\\n",
    "-p_{2} \\\\\n",
    "\\vdots \\\\\n",
    "-p_{n}\n",
    "\\end{array}\\right]\n",
    "$$\n"
   ]
  },
  {
   "cell_type": "code",
   "execution_count": 190,
   "metadata": {},
   "outputs": [
    {
     "data": {
      "text/plain": [
       "(array([[ 2.08418195e+02],\n",
       "        [-6.43296344e-01],\n",
       "        [-3.31314000e+01],\n",
       "        [ 1.82426929e+02],\n",
       "        [ 1.33443408e+02],\n",
       "        [ 1.51384362e+03]]),\n",
       " array([52.0256386]),\n",
       " 6,\n",
       " array([22.53733552, 22.46134983, 22.31442892,  4.47201692,  3.66339155,\n",
       "         3.16246496]))"
      ]
     },
     "execution_count": 190,
     "metadata": {},
     "output_type": "execute_result"
    }
   ],
   "source": [
    "result = lstsq(Ri_matrix,Pi_matrix)\n",
    "result"
   ]
  },
  {
   "cell_type": "code",
   "execution_count": 191,
   "metadata": {},
   "outputs": [
    {
     "name": "stdout",
     "output_type": "stream",
     "text": [
      "pt= [208.41819488  -0.64329634 -33.13140004]\n",
      "pp= [ 182.42692914  133.44340751 1513.84362071]\n"
     ]
    }
   ],
   "source": [
    "tmp=np.split(result[0],2)\n",
    "pt=tmp[0]\n",
    "pp=tmp[1]\n",
    "print('pt=',pt.flatten())\n",
    "print('pp=',pp.flatten())"
   ]
  },
  {
   "cell_type": "markdown",
   "metadata": {},
   "source": [
    "### 2. Further, compute the root mean square errors of the tip calibration"
   ]
  },
  {
   "cell_type": "code",
   "execution_count": 207,
   "metadata": {},
   "outputs": [
    {
     "data": {
      "text/plain": [
       "0.2587606303880167"
      ]
     },
     "execution_count": 207,
     "metadata": {},
     "output_type": "execute_result"
    }
   ],
   "source": [
    "residual=Pi_matrix-np.dot(Ri_matrix,result[0])\n",
    "error=np.sqrt(np.sum(np.square(residual))/num/3)\n",
    "error"
   ]
  },
  {
   "cell_type": "code",
   "execution_count": null,
   "metadata": {},
   "outputs": [],
   "source": []
  }
 ],
 "metadata": {
  "kernelspec": {
   "display_name": "'Python Interactive'",
   "language": "python",
   "name": "0198041c-a641-49c5-bd18-b8fbf787fd64"
  },
  "language_info": {
   "codemirror_mode": {
    "name": "ipython",
    "version": 3
   },
   "file_extension": ".py",
   "mimetype": "text/x-python",
   "name": "python",
   "nbconvert_exporter": "python",
   "pygments_lexer": "ipython3",
   "version": "3.7.4"
  }
 },
 "nbformat": 4,
 "nbformat_minor": 4
}
